{
 "cells": [
  {
   "cell_type": "markdown",
   "metadata": {},
   "source": [
    "## Day 17"
   ]
  },
  {
   "cell_type": "code",
   "execution_count": null,
   "metadata": {},
   "outputs": [],
   "source": []
  },
  {
   "cell_type": "markdown",
   "metadata": {},
   "source": [
    "## Packages and Modules:\n",
    "packages-- collection of python scripts(.py)\n",
    "module-- a python script"
   ]
  },
  {
   "cell_type": "code",
   "execution_count": 12,
   "metadata": {},
   "outputs": [
    {
     "name": "stdout",
     "output_type": "stream",
     "text": [
      "15511210043330985984000000\n",
      "500500\n",
      "123\n",
      "pto\n",
      "None nohtyP\n"
     ]
    }
   ],
   "source": [
    "from Python_Scripts import test\n",
    "from Python_Scripts.Strings.StringFunction import  *\n",
    "from math import floor\n",
    "\n",
    "print(test.factorial(25))\n",
    "print(test.sum(1000))\n",
    "print(floor(123.999))\n",
    "print(StringFunction.alternateCharacters('python'),end = ' ')\n",
    "print(StringFunction.ReverseString('Python'))\n"
   ]
  },
  {
   "cell_type": "markdown",
   "metadata": {},
   "source": [
    "### Regular Expressions:\n",
    "A set of all possible values that satisfy a given\n",
    "\n",
    "[0-9]\n",
    "[a-z]\n",
    "[A-z]\n",
    "\n",
    "^s*"
   ]
  },
  {
   "cell_type": "code",
   "execution_count": 82,
   "metadata": {},
   "outputs": [
    {
     "name": "stdout",
     "output_type": "stream",
     "text": [
      "Doesnt Match\n"
     ]
    }
   ],
   "source": [
    "import re\n",
    "pattern='[a-z]{3,5},[1-9]{2}$'\n",
    "domain='gmail1'\n",
    "if re.match(pattern,domain):\n",
    "    print('match')\n",
    "else:\n",
    "    print('Doesnt Match')"
   ]
  },
  {
   "cell_type": "markdown",
   "metadata": {},
   "source": [
    "### 3.Postal Code:"
   ]
  },
  {
   "cell_type": "code",
   "execution_count": 146,
   "metadata": {},
   "outputs": [
    {
     "name": "stdout",
     "output_type": "stream",
     "text": [
      "match 500001\n",
      "\n",
      "Doesnt Match 032311\n",
      "\n",
      "Doesnt Match 342354356\n",
      "\n"
     ]
    }
   ],
   "source": [
    "import re\n",
    "def Postal(p):\n",
    "    pattern='[4-9][0-9]{5}$'\n",
    "    domain=p\n",
    "    if re.match(pattern,domain):\n",
    "        print('match',domain)\n",
    "    else:\n",
    "        print('Doesnt Match',domain)\n",
    "    return ''\n",
    "\n",
    "print(Postal('500001'))\n",
    "print(Postal('032311'))\n",
    "print(Postal('342354356'))"
   ]
  },
  {
   "cell_type": "code",
   "execution_count": null,
   "metadata": {},
   "outputs": [],
   "source": []
  },
  {
   "cell_type": "markdown",
   "metadata": {},
   "source": [
    "### 4.Phone Number:"
   ]
  },
  {
   "cell_type": "code",
   "execution_count": 169,
   "metadata": {},
   "outputs": [
    {
     "name": "stdout",
     "output_type": "stream",
     "text": [
      "('+91 7644468654', 'match')\n",
      "('452542454', 'Doesnt Match')\n",
      "('+91 98431231229', 'Doesnt Match')\n"
     ]
    }
   ],
   "source": [
    "import re\n",
    "def PhoneN(p):\n",
    "    pattern='[+][9][1][ ][7-9][0-9]{9}$'\n",
    "    domain=p\n",
    "    if re.match(pattern,domain):\n",
    "        return domain,'match'\n",
    "    else:\n",
    "        return(domain,'Doesnt Match')\n",
    "        \n",
    "print(PhoneN('+91 7644468654'))\n",
    "print(PhoneN('452542454'))\n",
    "print(PhoneN('+91 98431231229'))"
   ]
  },
  {
   "cell_type": "markdown",
   "metadata": {},
   "source": [
    "## Problem 5 :\n",
    "## Statement:\n",
    "Define a function to validate email addresses based on the following rules.\n",
    "\n",
    "Email should be in the format username@domain.extension\n",
    "username must start with an alphabet and can contain lowercase alphabet, digits, hyphen(-) and underscores( _ ).\n",
    "username must not contain special characters, uppercase letters, whitespaces.\n",
    "Length of username must be in the range (6, 16)\n",
    "Domain can only contain lowercase alphabet and digits with length in range (3, 10) . No special characters are allowed\n",
    "Extension can only contain lower case alphabet and its length must be in the range (2, 4)\n",
    "First line of input contains total number of email addresses n.  Next n lines contain  n email addresses.\n",
    "\n",
    "Output must contain contain  n  lines with either 'Valid' or 'Invalid'\n",
    "## Test Cases:\n",
    "* Sample Input :  6\n",
    "\n",
    "abc456@gmail.com\n",
    "\n",
    "456abc@yahoo.com\n",
    "\n",
    "abc_456@gitam.ed1\n",
    "\n",
    "abc-456@abc-d.in\n",
    "\n",
    "python@python.edu\n",
    "\n",
    "abc 456@edu.edu\n",
    "\n",
    "* Sample Output :   Valid\n",
    "\n",
    "Invalid\n",
    "\n",
    "Invalid\n",
    "\n",
    "Invalid\n",
    "\n",
    "Valid\n",
    "\n",
    "Invalid"
   ]
  },
  {
   "cell_type": "code",
   "execution_count": 173,
   "metadata": {},
   "outputs": [
    {
     "name": "stdout",
     "output_type": "stream",
     "text": [
      "('a221041_32@gitam.edu', 'Valid')\n",
      "('hello.python@facebook.com', 'Valid')\n",
      "('abc 456@edu.google', 'Invalid')\n"
     ]
    }
   ],
   "source": [
    "import re\n",
    "def ValidUserName(m):\n",
    "    pattern='^[a-zP-Z][A-Za-z0-9_.-]{2,13}[a-z0-9][@][a-z]{3,9}[.][a-z]{2,3}$'\n",
    "    if re.match(pattern,m):\n",
    "        return m,\"Valid\"\n",
    "    else:\n",
    "        return m,\"Invalid\"\n",
    "\n",
    "print(ValidUserName('a221041_32@gitam.edu'))\n",
    "print(ValidUserName('hello.python@facebook.com'))\n",
    "print(ValidUserName('abc 456@edu.google'))    "
   ]
  },
  {
   "cell_type": "code",
   "execution_count": null,
   "metadata": {},
   "outputs": [],
   "source": []
  },
  {
   "cell_type": "markdown",
   "metadata": {},
   "source": [
    "## Problem 6 :\n",
    "## Statement: Password Validation\n",
    "* Should contain atlest one uppercase\n",
    "* Length in range (6,21)\n",
    "* Should contain one special character\n",
    "* should start with uppercase or lowercase\n",
    "* Should contain atleast one digit"
   ]
  },
  {
   "cell_type": "code",
   "execution_count": 18,
   "metadata": {},
   "outputs": [
    {
     "name": "stdout",
     "output_type": "stream",
     "text": [
      "Strong\n",
      "Weak\n",
      "Strong\n"
     ]
    }
   ],
   "source": [
    " import re\n",
    "def Password(p):\n",
    "    #pattern='^[A-Za-z][A-Za-z0-9!@#$%^&*]{5,21}$'\n",
    "    if re.match('(?=.*[a-z])(?=.*[A-Z])(?=.*[0-9])(?=.*[!@#$%^&*0-9]).{8,16}$',p):\n",
    "        return(\"Strong\")\n",
    "    else:\n",
    "        return \"Weak\"\n",
    "\n",
    "\n",
    "print(Password('eAf42$#$'))\n",
    "print(Password('hello123'))\n",
    "print(Password('Python123$'))"
   ]
  },
  {
   "cell_type": "code",
   "execution_count": null,
   "metadata": {},
   "outputs": [],
   "source": []
  },
  {
   "cell_type": "markdown",
   "metadata": {},
   "source": [
    "###  Iterators \n",
    "Lists,Tupeles,Strings"
   ]
  },
  {
   "cell_type": "code",
   "execution_count": 223,
   "metadata": {},
   "outputs": [
    {
     "name": "stdout",
     "output_type": "stream",
     "text": [
      "2 4 6 "
     ]
    }
   ],
   "source": [
    "li = [1,2,3,4,5,6]\n",
    "type(li)\n",
    "it=iter(li)\n",
    "for i in it:\n",
    "    print(next(it),end=\" \")\n",
    "\n"
   ]
  },
  {
   "cell_type": "code",
   "execution_count": null,
   "metadata": {},
   "outputs": [],
   "source": []
  },
  {
   "cell_type": "code",
   "execution_count": 233,
   "metadata": {},
   "outputs": [
    {
     "name": "stdout",
     "output_type": "stream",
     "text": [
      "10 20 30 40 50 60 70 80 90 100 "
     ]
    }
   ],
   "source": [
    "gn=(i*10 for i in range(1,11))\n",
    "gn\n",
    "for i in gn:\n",
    "    print(i,end=\" \")"
   ]
  },
  {
   "cell_type": "code",
   "execution_count": null,
   "metadata": {},
   "outputs": [],
   "source": []
  }
 ],
 "metadata": {
  "kernelspec": {
   "display_name": "Python 3",
   "language": "python",
   "name": "python3"
  },
  "language_info": {
   "codemirror_mode": {
    "name": "ipython",
    "version": 3
   },
   "file_extension": ".py",
   "mimetype": "text/x-python",
   "name": "python",
   "nbconvert_exporter": "python",
   "pygments_lexer": "ipython3",
   "version": "3.7.3"
  }
 },
 "nbformat": 4,
 "nbformat_minor": 2
}
