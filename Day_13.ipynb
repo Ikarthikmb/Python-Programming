{
 "cells": [
  {
   "cell_type": "markdown",
   "metadata": {},
   "source": [
    "## Problem 1:\n",
    "## Statement : \n",
    "Define a function to convert a binary number to the corresponding decimal number\n",
    "### Test Cases:\n",
    "* binaryToDecimal(1101) -> 12\n",
    "* binaryToDecimal(1010) -> 10\n",
    "* binaryToDecimal(111000) -> 56"
   ]
  },
  {
   "cell_type": "code",
   "execution_count": 235,
   "metadata": {},
   "outputs": [
    {
     "name": "stdout",
     "output_type": "stream",
     "text": [
      "13\n",
      "10\n",
      "56\n"
     ]
    }
   ],
   "source": [
    "def BintoDec(B):\n",
    "    s=0\n",
    "    p=len(B)-1\n",
    "    for i in range(len(B)):\n",
    "        s=s+((int(B[i])) * (2**p))\n",
    "        p=p-1\n",
    "    return s\n",
    "print(BintoDec('1101'))\n",
    "print(BintoDec('1010'))\n",
    "print(BintoDec('111000'))"
   ]
  },
  {
   "cell_type": "code",
   "execution_count": null,
   "metadata": {},
   "outputs": [],
   "source": []
  },
  {
   "cell_type": "code",
   "execution_count": null,
   "metadata": {},
   "outputs": [],
   "source": []
  },
  {
   "cell_type": "markdown",
   "metadata": {},
   "source": [
    "## Problem 2:\n",
    "## Statement : \n",
    "Define a function to convert a decimal number to the corresponding binary number\n",
    "\n",
    "\n",
    "### Test Cases:\n",
    "* decimalToBinary(15) -> 1111\n",
    "* decimalToBinary(1) -> 1"
   ]
  },
  {
   "cell_type": "code",
   "execution_count": 314,
   "metadata": {},
   "outputs": [
    {
     "name": "stdout",
     "output_type": "stream",
     "text": [
      "[1, 1, 1, 1]\n",
      "[1]\n",
      "[1, 1, 0, 0, 0, 0, 1, 1, 1, 0, 1, 1, 0, 0, 1, 0, 1, 1, 1, 0, 1, 0, 0, 1, 0, 1, 1, 0, 1, 0, 1, 0, 0]\n"
     ]
    }
   ],
   "source": [
    "def DectoBin(D,m):\n",
    "    if D==0:\n",
    "        breakpoint\n",
    "    else:\n",
    "        m.append(D%2)\n",
    "        DectoBin(D//2,m)\n",
    "    return m[::-1]\n",
    "print(DectoBin(15,[]))\n",
    "print(DectoBin(1,[]))\n",
    "print(DectoBin(6566564564,[]))"
   ]
  },
  {
   "cell_type": "code",
   "execution_count": null,
   "metadata": {},
   "outputs": [],
   "source": []
  },
  {
   "cell_type": "markdown",
   "metadata": {},
   "source": [
    "## Problem 3:\n",
    "## Statement : \n",
    "Design a Python script to determine the difference in date for given two dates in YYYY:MM:DD format(0 <= YYYY <= 9999, 1 <= MM <= 12, 1 <= DD <= 31) following the leap year rules. Return the total number of days existing between the two dates.\n",
    "\n",
    "### Test Cases:\n",
    "* dateDifference('2019:05:10', '2019:05:01') -> 9\n",
    "* dateDifference('0003:03:03', '0003:06:06') -> 95"
   ]
  },
  {
   "cell_type": "code",
   "execution_count": 339,
   "metadata": {},
   "outputs": [
    {
     "name": "stdout",
     "output_type": "stream",
     "text": [
      "9\n",
      "96\n"
     ]
    }
   ],
   "source": [
    "def leapYear(L):\n",
    "    return(L% 4==0 and L%100!=0 or L%400==0)\n",
    "def dateDifference(p,q):\n",
    "    y= int(p[0:4])-int(q[0:4])\n",
    "    m= int(p[5:7])-int(q[5:7])\n",
    "    leapYear(y)\n",
    "    if True:\n",
    "         yd=y*366\n",
    "    else:\n",
    "        yd=y*365\n",
    "    d= int(p[8:10])-int(q[8:10])\n",
    "    md=m*31\n",
    "    return abs(yd+md+d)\n",
    "\n",
    "print(dateDifference('2019:05:10', '2019:05:01'))\n",
    "print(dateDifference('0003:03:03', '0003:06:06'))\n"
   ]
  },
  {
   "cell_type": "code",
   "execution_count": null,
   "metadata": {},
   "outputs": [],
   "source": []
  },
  {
   "cell_type": "markdown",
   "metadata": {},
   "source": [
    "## Problem 4:\n",
    "## Statement :\n",
    "Define a function to print the sequence of spiral pattern elements for a given N x N matrix\n",
    "\n",
    "### Test Cases:\n",
    "spiralPattern([[1,2,3], [4,5,6], [7,8,9]]) -> 1 2 3 6 9 8 7 4 5"
   ]
  },
  {
   "cell_type": "code",
   "execution_count": 350,
   "metadata": {},
   "outputs": [
    {
     "data": {
      "text/plain": [
       "([1, 2, 3, 0], 9, 5, 8, 5, 6, 1, 7, 4)"
      ]
     },
     "execution_count": 350,
     "metadata": {},
     "output_type": "execute_result"
    }
   ],
   "source": [
    "def spiral(m):\n",
    "    return m[0],m[1][3],m[2][3],m[3][3],m[3][2],m[3][1],m[3][0],m[2][0],m[1][0]\n",
    "spiral([[1,2,3,0],[4,5,6,9],[7,8,9,5],[1,6,5,8]])    "
   ]
  },
  {
   "cell_type": "code",
   "execution_count": 18,
   "metadata": {},
   "outputs": [
    {
     "data": {
      "text/plain": [
       "[1, 2, 3, 0, 9, 5, [1, 6, 5, 8], 7, 4]"
      ]
     },
     "execution_count": 18,
     "metadata": {},
     "output_type": "execute_result"
    }
   ],
   "source": [
    "def Spiral(m,s):\n",
    "    for i in range(len(m[0])):\n",
    "        s.append(m[0][i])\n",
    "    #for i in range(len(m[1])):\n",
    "    s.append(m[1][3])\n",
    "    #for i in range(len(m[1])):\n",
    "    s.append(m[2][3])\n",
    "    #for i in range(len(m[3]),0):\n",
    "    s.append(*m[3:2:-1])\n",
    "    #for i in range(len(m[2])):\n",
    "    s.append(m[2][0])\n",
    "    #for i in range(len(m[1])):\n",
    "    s.append(m[1][0])\n",
    "    return(s) \n",
    "Spiral([[1,2,3,0],[4,5,6,9],[7,8,9,5],[1,6,5,8]],[]) "
   ]
  },
  {
   "cell_type": "code",
   "execution_count": null,
   "metadata": {},
   "outputs": [],
   "source": []
  },
  {
   "cell_type": "markdown",
   "metadata": {},
   "source": [
    "## Problem 5:\n",
    "## Statement : \n",
    "Count the number of strings present in the given string\n",
    "### Test Cases:\n",
    "* (StringCount(\"abccddccc\", \"cc\")) -->2\n",
    "* (StringCount(\"1234567891122334455\", \"3\")) -->3\n",
    "* (StringCount('str','substr')) --> 0\n",
    "* (StringCount('aaaaaaa', 'aaa')) -->2"
   ]
  },
  {
   "cell_type": "code",
   "execution_count": 33,
   "metadata": {
    "scrolled": true
   },
   "outputs": [
    {
     "name": "stdout",
     "output_type": "stream",
     "text": [
      "2\n",
      "3\n",
      "0\n",
      "2\n"
     ]
    }
   ],
   "source": [
    "def StringCount(s,r):\n",
    "    for _ in range(len(max(s,r))):\n",
    "        return s.count(r)\n",
    "    \n",
    "print(StringCount(\"abccddccc\", \"cc\"))\n",
    "print(StringCount(\"1234567891122334455\", \"3\"))\n",
    "print(StringCount('str','substr'))\n",
    "print(StringCount('aaaaaaa', 'aaa'))"
   ]
  },
  {
   "cell_type": "code",
   "execution_count": null,
   "metadata": {},
   "outputs": [],
   "source": []
  },
  {
   "cell_type": "markdown",
   "metadata": {},
   "source": [
    "## Problem 6:\n",
    "## Statement : \n",
    "Define a function to merge the characters of two strings alternatively. The remaining characters of the longer string are printed in the same order at the end.\n",
    "### Test Cases:\n",
    "* mergeString('abcd', 'absd',[]) -> 'aabbcsdd'\n",
    "* mergeString('abc', '123456',[]) -> 'a1b2c3'\n",
    "* mergeString('0', '123456',[]) -> 'a102'\n"
   ]
  },
  {
   "cell_type": "code",
   "execution_count": 34,
   "metadata": {},
   "outputs": [
    {
     "name": "stdout",
     "output_type": "stream",
     "text": [
      "aabbcsdd\n",
      "a1b2c3\n",
      "a102\n"
     ]
    }
   ],
   "source": [
    "def merge(m,n,o):\n",
    "    for i in range (len(max(m,n))):\n",
    "        o.append(m[i]+n[i])\n",
    "    \n",
    "    return \"\".join(o)\n",
    "print(merge('abcd', 'absd',[]))\n",
    "print(merge('abc', '123456',[]))\n",
    "print(merge('a0', '123456',[]))"
   ]
  },
  {
   "cell_type": "code",
   "execution_count": null,
   "metadata": {},
   "outputs": [],
   "source": []
  }
 ],
 "metadata": {
  "kernelspec": {
   "display_name": "Python 3",
   "language": "python",
   "name": "python3"
  },
  "language_info": {
   "codemirror_mode": {
    "name": "ipython",
    "version": 3
   },
   "file_extension": ".py",
   "mimetype": "text/x-python",
   "name": "python",
   "nbconvert_exporter": "python",
   "pygments_lexer": "ipython3",
   "version": "3.7.3"
  }
 },
 "nbformat": 4,
 "nbformat_minor": 2
}
