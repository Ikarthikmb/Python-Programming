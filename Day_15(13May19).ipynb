{
 "cells": [
  {
   "cell_type": "markdown",
   "metadata": {},
   "source": [
    "# PROBLEM SOLVING AND PROGRMMING\n",
    "### DAY-15\n",
    "### DATE:13May20019"
   ]
  },
  {
   "cell_type": "code",
   "execution_count": null,
   "metadata": {},
   "outputs": [],
   "source": []
  },
  {
   "cell_type": "markdown",
   "metadata": {},
   "source": [
    "### Problem 1:\n",
    "### Statement :\n",
    "Design a Python script to determine the difference in date for given two dates in YYYY:MM:DD format(0 <= YYYY <= 9999, 1 <= MM <= 12, 1 <= DD <= 31) following the leap year rules. Return the total number of days existing between the two dates.\n",
    "\n",
    "### Test Cases:\n",
    "* dateDifference('2019:05:10', '2019:05:01') -> 9\n",
    "* dateDifference('0003:03:03', '0003:06:06') -> 95\n",
    "* dateDifference('0001:03:27', '0001:06:03') -> 68"
   ]
  },
  {
   "cell_type": "code",
   "execution_count": 3,
   "metadata": {
    "scrolled": true
   },
   "outputs": [
    {
     "name": "stdout",
     "output_type": "stream",
     "text": [
      "235\n",
      "95\n",
      "68\n"
     ]
    }
   ],
   "source": [
    "def dateDiff(d1,d2):\n",
    "    if yearFromDate(d1)==yearFromDate(d2): \n",
    "        return abs(totalDaysDate(d1)-totalDaysDate(d2))\n",
    "    elif yearFromDate(d2)-yearFromDate(d1)==1:\n",
    "        return totalDaysDateEndYear(d1)+totalDaysDateEndYear(d2)\n",
    "    else:\n",
    "        sum =totalDaysDateEndYear(d1)+totalDaysDateEndYear(d2)\n",
    "        year1=yearFromDate(d1)\n",
    "        year2=yearFromDate(d2)\n",
    "        for i in range (year1+1,year2):\n",
    "            sum += numDaysInYear(i)\n",
    "        return sum\n",
    "\n",
    "# Returns total number of days in february for a given year\n",
    "def CheckLeap(y):\n",
    "    if y%4==0 or y%100==0 and y%400 :\n",
    "        return 29\n",
    "    return 28\n",
    "\n",
    "# Returns the total number of days in a given month\n",
    "def NumDays(month,year):\n",
    "    #monthDays= {'01':31,'03':31,'04':30,'05':30,'06':31,'07':30,'08':31,'09':30,'10':31,'11':30,'12':31}\n",
    "    if (month==2):\n",
    "        return CheckLeap(year)\n",
    "    elif (month<=7 and month !=2 and month % 2==0)or (month>7 and month%2 !=0):\n",
    "        return 30\n",
    "    return 31\n",
    "\n",
    "# Number of days in a leap year or non leap year\n",
    "def numDaysInMonth(y):\n",
    "    if CheckLeap(y)==29:\n",
    "        return 366\n",
    "    return 365\n",
    "\n",
    "# Returns total number of days completed till the given date\n",
    "def totalDaysDate(date):\n",
    "    year=yearFromDate(date)\n",
    "    month=monthFromDate(date)\n",
    "    day=daysFromDate(date)\n",
    "    sum=0\n",
    "    for i in range(1,month):\n",
    "        sum += NumDays(i,year)\n",
    "    sum += day\n",
    "    return sum\n",
    "\n",
    "def totalDaysDateEndYear(date):\n",
    "    year=yearFromDate(date)\n",
    "    month=monthFromDate(date)\n",
    "    day=daysFromDate(date)\n",
    "    sum=0\n",
    "    for i in range(month,13):\n",
    "        sum += numDaysInMonth(i,year)\n",
    "    sum += (numDaysInMonth(month,year)-day+1)\n",
    "    return sum\n",
    "\n",
    "\n",
    "def yearFromDate(date):\n",
    "    return int (date[:4])\n",
    "\n",
    "def monthFromDate(date):\n",
    "    return int (date[5:7])\n",
    "\n",
    "def daysFromDate(date):\n",
    "    return int (date[len(date)-2:])\n",
    "\n",
    "print(dateDiff('2019:05:10', '2019:12:31'))\n",
    "print(dateDiff('0003:03:03', '0003:06:06'))\n",
    "print(dateDiff('0001:03:27', '0001:06:03'))"
   ]
  },
  {
   "cell_type": "code",
   "execution_count": null,
   "metadata": {},
   "outputs": [],
   "source": []
  },
  {
   "cell_type": "markdown",
   "metadata": {},
   "source": [
    "### Using the inbuilt date and time libraries for Problem 2"
   ]
  },
  {
   "cell_type": "code",
   "execution_count": 2,
   "metadata": {},
   "outputs": [
    {
     "data": {
      "text/plain": [
       "datetime.timedelta(days=68)"
      ]
     },
     "execution_count": 2,
     "metadata": {},
     "output_type": "execute_result"
    }
   ],
   "source": [
    "from datetime import date ,datetime\n",
    "def dateDiff(date1,date2):\n",
    "    year1=yearFromDate(date1)\n",
    "    month1=monthFromDate(date1)\n",
    "    day1=daysFromDate(date1)\n",
    "    year2=yearFromDate(date2)\n",
    "    month2=monthFromDate(date2)\n",
    "    day2=daysFromDate(date2)\n",
    "    d1=date(year=year1,month=month1,day=day1)\n",
    "    d2=date(year=year2,month=month2,day=day2)\n",
    "    return d2-d1\n",
    "dateDiff('0001:03:27', '0001:06:03')"
   ]
  }
 ],
 "metadata": {
  "kernelspec": {
   "display_name": "Python 3",
   "language": "python",
   "name": "python3"
  },
  "language_info": {
   "codemirror_mode": {
    "name": "ipython",
    "version": 3
   },
   "file_extension": ".py",
   "mimetype": "text/x-python",
   "name": "python",
   "nbconvert_exporter": "python",
   "pygments_lexer": "ipython3",
   "version": "3.7.3"
  }
 },
 "nbformat": 4,
 "nbformat_minor": 2
}
