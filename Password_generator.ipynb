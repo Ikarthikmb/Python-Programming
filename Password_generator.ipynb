{
 "cells": [
  {
   "cell_type": "markdown",
   "metadata": {},
   "source": [
    "## Generating passwords of length 8 using random,numpy libraries"
   ]
  },
  {
   "cell_type": "code",
   "execution_count": 217,
   "metadata": {},
   "outputs": [
    {
     "name": "stdout",
     "output_type": "stream",
     "text": [
      "0.00013525299982575234\n"
     ]
    },
    {
     "data": {
      "text/plain": [
       "['EE2V2LD8',\n",
       " 'L<WXUO>H',\n",
       " '508E9@D=',\n",
       " ';=OHLJOH',\n",
       " 'G@XP7BKD',\n",
       " 'X0M973>U',\n",
       " 'INV5HFBF',\n",
       " '<IB7A9CD',\n",
       " 'M5YQCQ42',\n",
       " 'NTV@HI<A']"
      ]
     },
     "execution_count": 217,
     "metadata": {},
     "output_type": "execute_result"
    }
   ],
   "source": [
    "import random \n",
    "import numpy as np\n",
    "import timeit\n",
    "s=timeit.default_timer()\n",
    "a=[]\n",
    "def genP(l):\n",
    "    for _ in range(l):\n",
    "        a.append(''.join(map(lambda p:chr(p),np.random.randint(48,90,8))))\n",
    "        \n",
    "    return a\n",
    "print(timeit.default_timer()-s)\n",
    "genP(10)"
   ]
  },
  {
   "cell_type": "code",
   "execution_count": null,
   "metadata": {},
   "outputs": [],
   "source": []
  },
  {
   "cell_type": "markdown",
   "metadata": {},
   "source": [
    "## Generating passwords of length 8 using random,string libraries"
   ]
  },
  {
   "cell_type": "code",
   "execution_count": 219,
   "metadata": {},
   "outputs": [
    {
     "name": "stdout",
     "output_type": "stream",
     "text": [
      "0.0002615470002638176\n"
     ]
    },
    {
     "data": {
      "text/plain": [
       "['Mk8MMvQP',\n",
       " 'Uqlg2uo7',\n",
       " '7L7wumtT',\n",
       " 'GUjvURkD',\n",
       " 'mABuJ2J4',\n",
       " 'eohQY2kP',\n",
       " 'qUd4cw18',\n",
       " '3iV7smW5',\n",
       " 'zBpB4Q6z',\n",
       " '6lbHNnN7']"
      ]
     },
     "execution_count": 219,
     "metadata": {},
     "output_type": "execute_result"
    }
   ],
   "source": [
    "import random\n",
    "import string \n",
    "import timeit\n",
    "import numpy as np\n",
    "st=timeit.default_timer()\n",
    "a=[]\n",
    "s=string.ascii_letters+string.digits\n",
    "def genp(l):\n",
    "    for _ in range(l):\n",
    "        a.append(''.join(random.choice(s) for _ in range(8)))\n",
    "    return a\n",
    "print(timeit.default_timer()-st)\n",
    "genp(10)"
   ]
  }
 ],
 "metadata": {
  "kernelspec": {
   "display_name": "Python 3",
   "language": "python",
   "name": "python3"
  },
  "language_info": {
   "codemirror_mode": {
    "name": "ipython",
    "version": 3
   },
   "file_extension": ".py",
   "mimetype": "text/x-python",
   "name": "python",
   "nbconvert_exporter": "python",
   "pygments_lexer": "ipython3",
   "version": "3.7.3"
  }
 },
 "nbformat": 4,
 "nbformat_minor": 2
}
