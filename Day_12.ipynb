{
 "cells": [
  {
   "cell_type": "markdown",
   "metadata": {},
   "source": [
    "# Problem solving and Programming\n",
    "\n",
    "### Day 12\n",
    "### Date-10 May 2019\n",
    "### Day Outcomes:\n",
    "1. Recursion introduction\n",
    "2. Soving progrmmming challenges using recursion , Data structures"
   ]
  },
  {
   "cell_type": "markdown",
   "metadata": {},
   "source": [
    "## Recursion \n",
    "* Function calling itself\n",
    "* Breakdown complex problem unto sub problems of lower complexity. KEEP REPEATING THIS PROCESS UNTILL WE REACH THE SMALLEST POSSIBLE SUB PROBLEM to which we know the solution\n",
    "* Ex:   \n",
    "        1. power of a number\n",
    "        2. Factorial\n",
    "        3. GCD\n",
    "        4. Towers of Hanoi\n",
    "        5. binary Search\n",
    "        6. Merge search\n",
    "        7. Fibanacci series\n",
    "        8. Any problem with Iteration"
   ]
  },
  {
   "cell_type": "markdown",
   "metadata": {},
   "source": [
    "## Problem 1: Power of a number\n",
    "#### Test Cases\n",
    "* power(5,3)\n",
    "* power(2,10)\n",
    "* power(11,9)"
   ]
  },
  {
   "cell_type": "code",
   "execution_count": 50,
   "metadata": {},
   "outputs": [
    {
     "name": "stdout",
     "output_type": "stream",
     "text": [
      "125\n",
      "1024\n",
      "2357947691\n"
     ]
    }
   ],
   "source": [
    "#Without recursion\n",
    "def power(n,r):\n",
    "    p=1\n",
    "    for i in range(1,r+1):\n",
    "        p*=n\n",
    "    return(p)\n",
    "print(power(5,3))\n",
    "print(power(2,10))\n",
    "print(power(11,9))"
   ]
  },
  {
   "cell_type": "code",
   "execution_count": 51,
   "metadata": {},
   "outputs": [
    {
     "name": "stdout",
     "output_type": "stream",
     "text": [
      "125\n",
      "1024\n",
      "2357947691\n"
     ]
    }
   ],
   "source": [
    "#With recursion\n",
    "def RPower(n,r):\n",
    "    if(r==1):\n",
    "        return(n)\n",
    "    else:\n",
    "        return RPower(n,r-1)*n\n",
    "\n",
    "print(RPower(5,3))\n",
    "print(RPower(2,10))\n",
    "print(RPower(11,9))\n",
    "    "
   ]
  },
  {
   "cell_type": "code",
   "execution_count": null,
   "metadata": {},
   "outputs": [],
   "source": []
  },
  {
   "cell_type": "markdown",
   "metadata": {},
   "source": [
    "## 2. Factorial\n",
    "#### Test Cases\n",
    "* Factorial(5)\n",
    "* Factorial(18)\n",
    "* Factorial(9)"
   ]
  },
  {
   "cell_type": "code",
   "execution_count": 58,
   "metadata": {},
   "outputs": [
    {
     "name": "stdout",
     "output_type": "stream",
     "text": [
      "120\n",
      "6402373705728000\n",
      "362880\n"
     ]
    }
   ],
   "source": [
    "def Factorial(n):\n",
    "    if n==1:\n",
    "        return n\n",
    "    else:\n",
    "        return Factorial(n=n-1)*n\n",
    "print(Factorial(5))\n",
    "print(Factorial(18))\n",
    "print(Factorial(9))    "
   ]
  },
  {
   "cell_type": "code",
   "execution_count": null,
   "metadata": {},
   "outputs": [],
   "source": []
  },
  {
   "cell_type": "markdown",
   "metadata": {},
   "source": [
    "## 3. GCD\n",
    "#### Test Cases:\n",
    "* gcdR(12,39)\n",
    "* gcdR(43,452)"
   ]
  },
  {
   "cell_type": "code",
   "execution_count": 59,
   "metadata": {},
   "outputs": [
    {
     "name": "stdout",
     "output_type": "stream",
     "text": [
      "3\n",
      "1\n"
     ]
    }
   ],
   "source": [
    "def gcdR(a,b):\n",
    "    if b%a == 0:\n",
    "        return a\n",
    "    else:\n",
    "        return gcdR(b%a,a)\n",
    "print(gcdR(12,39))\n",
    "print(gcdR(43,452))"
   ]
  },
  {
   "cell_type": "code",
   "execution_count": null,
   "metadata": {},
   "outputs": [],
   "source": []
  },
  {
   "cell_type": "markdown",
   "metadata": {},
   "source": [
    "## 4. Towers of hanoi\n",
    "#### Explanation: \n",
    "* n disks ->  \n",
    "        * move n-1 from source to temporary  \n",
    "        * move n th from source to destination ;\n",
    "        * move n-1 th disk from temp to destination\n",
    "* 3 disks ->\n",
    "        * move 2 disks from source to destination\n",
    "        * move 3 disks from source to destination\n",
    "        * move 2 disks from temp to destination\n",
    "            "
   ]
  },
  {
   "cell_type": "code",
   "execution_count": 18,
   "metadata": {},
   "outputs": [
    {
     "name": "stdout",
     "output_type": "stream",
     "text": [
      "move 1 disk from 1 2\n",
      "move 2 from 1 3\n",
      "move 1 disk from 2 3\n",
      "move 3 from 1 2\n",
      "move 1 disk from 3 1\n",
      "move 2 from 3 2\n",
      "move 1 disk from 1 2\n",
      "move 4 from 1 3\n",
      "move 1 disk from 2 3\n",
      "move 2 from 2 1\n",
      "move 1 disk from 3 1\n",
      "move 3 from 2 3\n",
      "move 1 disk from 1 2\n",
      "move 2 from 1 3\n",
      "move 1 disk from 2 3\n"
     ]
    }
   ],
   "source": [
    "def towerofHanoi(n,s,t,d):\n",
    "    if ==1:\n",
    "        print('move',n,'disk from',s,d)\n",
    "    else:\n",
    "        towerofHanoi(n-1,s,d,t)\n",
    "        print('move',n,'from',s,d)\n",
    "        towerofHanoi(n-1,t,s,d)\n",
    "towerofHanoi(4,1,2,3)"
   ]
  },
  {
   "cell_type": "code",
   "execution_count": null,
   "metadata": {},
   "outputs": [],
   "source": []
  },
  {
   "cell_type": "markdown",
   "metadata": {},
   "source": [
    "## 5. Fibanacci Series"
   ]
  },
  {
   "cell_type": "code",
   "execution_count": 32,
   "metadata": {},
   "outputs": [
    {
     "data": {
      "text/plain": [
       "55"
      ]
     },
     "execution_count": 32,
     "metadata": {},
     "output_type": "execute_result"
    }
   ],
   "source": [
    "def Fibonacci(n):\n",
    "    if(n==0 or n==1):\n",
    "        return (n)\n",
    "    else:\n",
    "        return Fibonacci(n-1) + Fibonacci(n-2)\n",
    "Fibonacci(10)"
   ]
  },
  {
   "cell_type": "code",
   "execution_count": null,
   "metadata": {},
   "outputs": [],
   "source": []
  },
  {
   "cell_type": "markdown",
   "metadata": {},
   "source": [
    "## 6. Define a function to check if a given year is a leap year. Returns a boolean value\n",
    "### Constraints:\n",
    "year(L)\n",
    "### Test Cases:\n",
    "* 2000 -> True\n",
    "* 1900 -> False\n",
    "* 2012 -> True\n",
    "* 2020 -> True\n",
    "* 0200 -> False"
   ]
  },
  {
   "cell_type": "code",
   "execution_count": 30,
   "metadata": {},
   "outputs": [
    {
     "name": "stdout",
     "output_type": "stream",
     "text": [
      "True\n",
      "False\n",
      "True\n",
      "True\n",
      "False\n"
     ]
    }
   ],
   "source": [
    "def leapYear(L):\n",
    "    return(L% 4==0 and L%100!=0 or L%400==0)\n",
    "print(leapYear(2000))\n",
    "print(leapYear(1900))\n",
    "print(leapYear(2012))\n",
    "print(leapYear(2020))\n",
    "print(leapYear(200))"
   ]
  },
  {
   "cell_type": "code",
   "execution_count": null,
   "metadata": {},
   "outputs": [],
   "source": []
  },
  {
   "cell_type": "markdown",
   "metadata": {},
   "source": [
    "## Problem Statement:\n",
    "### Define a function to merge the characters of two strings alternatively. The remaining characters of the longer string are printed in the same order at the end.\n",
    "\n",
    "* mergeString('abcd', 'abcd') -> 'aabbccdd'\n",
    "* mergeString('abc', '123456') -> 'a1b2c3456'\n",
    "* mergeString('_0', '123456') -> '_1023456'"
   ]
  },
  {
   "cell_type": "code",
   "execution_count": 72,
   "metadata": {},
   "outputs": [
    {
     "name": "stdout",
     "output_type": "stream",
     "text": [
      "aabnccdd\n",
      "a1b2c3456\n",
      "_1023456\n"
     ]
    }
   ],
   "source": [
    "def mergeString(a,b):\n",
    "    k=[]\n",
    "    for i in range(len(max(a,b))):\n",
    "        k.append(a[i]+b[i])\n",
    "    if len(a)<len(b):\n",
    "        for i in range(len(a),len(b)):\n",
    "            k.append(b[i])\n",
    "    else:\n",
    "        for i in range(len(b),len(a)):\n",
    "            k.append(a[i])\n",
    "    return listmerge(k)\n",
    "def listmerge(k):\n",
    "    m=''\n",
    "    for i in range(len(k)):\n",
    "        m+=k[i]\n",
    "    return m\n",
    "print(mergeString('abcd', 'ancd'))\n",
    "print(mergeString('abc', '123456'))\n",
    "print(mergeString('_0', '123456'))"
   ]
  },
  {
   "cell_type": "code",
   "execution_count": null,
   "metadata": {},
   "outputs": [],
   "source": []
  },
  {
   "cell_type": "markdown",
   "metadata": {},
   "source": [
    "## Problem Statement:\n",
    "### Generation of n fibonacci series using Yield.\n",
    "#### Test Cases:\n",
    "* fib(10)"
   ]
  },
  {
   "cell_type": "code",
   "execution_count": 113,
   "metadata": {},
   "outputs": [
    {
     "name": "stdout",
     "output_type": "stream",
     "text": [
      "0\n",
      "1\n",
      "1\n",
      "2\n",
      "3\n",
      "5\n",
      "8\n",
      "13\n",
      "21\n",
      "34\n"
     ]
    }
   ],
   "source": [
    "def fib(n):\n",
    "    a, b = 0, 1\n",
    "    for _ in range(n):\n",
    "        yield a\n",
    "        b ,a = a + b, b\n",
    "for f in fib(10):\n",
    "    print(f)"
   ]
  },
  {
   "cell_type": "code",
   "execution_count": null,
   "metadata": {},
   "outputs": [],
   "source": []
  }
 ],
 "metadata": {
  "kernelspec": {
   "display_name": "Python 3",
   "language": "python",
   "name": "python3"
  },
  "language_info": {
   "codemirror_mode": {
    "name": "ipython",
    "version": 3
   },
   "file_extension": ".py",
   "mimetype": "text/x-python",
   "name": "python",
   "nbconvert_exporter": "python",
   "pygments_lexer": "ipython3",
   "version": "3.7.3"
  }
 },
 "nbformat": 4,
 "nbformat_minor": 2
}
