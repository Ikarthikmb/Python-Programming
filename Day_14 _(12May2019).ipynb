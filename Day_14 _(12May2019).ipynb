{
 "cells": [
  {
   "cell_type": "markdown",
   "metadata": {},
   "source": [
    "# PROBLEM SOLVING AND PROGRMMING\n",
    "### DAY-14\n",
    "### DATE:12May20019"
   ]
  },
  {
   "cell_type": "code",
   "execution_count": null,
   "metadata": {},
   "outputs": [],
   "source": []
  },
  {
   "cell_type": "markdown",
   "metadata": {},
   "source": [
    "### Problem 1:\n",
    "### Statement \n",
    "Define a function if a given year is a leap year\n",
    "### Test Cases:\n",
    "* 2000-->True\n",
    "* 1900-->False\n",
    "* 2012-->True\n",
    "* 2020-->True\n",
    "* 0200-->False"
   ]
  },
  {
   "cell_type": "code",
   "execution_count": 2,
   "metadata": {},
   "outputs": [
    {
     "data": {
      "text/plain": [
       "True"
      ]
     },
     "execution_count": 2,
     "metadata": {},
     "output_type": "execute_result"
    }
   ],
   "source": [
    "def CheckLeap(y):\n",
    "    if y%4==0 or y%100==0 and y%400 :\n",
    "        return True\n",
    "    return False\n",
    "CheckLeap(2000)"
   ]
  },
  {
   "cell_type": "code",
   "execution_count": null,
   "metadata": {},
   "outputs": [],
   "source": [
    " "
   ]
  },
  {
   "cell_type": "markdown",
   "metadata": {},
   "source": [
    "## Day_14 Problems:"
   ]
  },
  {
   "cell_type": "markdown",
   "metadata": {},
   "source": [
    "## Problem 3:\n",
    "### Statement :\n",
    "You are given n words. Some words may repeat. For each word, output its number of occurrences. The output order should correspond with the input order of appearance of the word. \n",
    "First line of input contains the total number of words n. Next n lines contain words that need to processed.\n",
    "\n",
    "First line of the output should contain the total number distinct words. Second line of output must contain the frequency of words the same order of their appearance as in the input\n",
    "### Test Cases:\n",
    "Sample Input :  6\n",
    "\n",
    "abcd\n",
    "\n",
    "ijkl\n",
    "\n",
    "abcd\n",
    "\n",
    "pqrs\n",
    "\n",
    "abcd\n",
    "\n",
    "ijkl\n",
    "\n",
    "Sample Output :   3\n",
    "\n",
    "3  2   1"
   ]
  },
  {
   "cell_type": "code",
   "execution_count": 50,
   "metadata": {},
   "outputs": [
    {
     "data": {
      "text/plain": [
       "[3, 3, 1, 3, 1]"
      ]
     },
     "execution_count": 50,
     "metadata": {},
     "output_type": "execute_result"
    }
   ],
   "source": [
    "def WordsRepeat(m):\n",
    "    n=[]\n",
    "    for i in range(len(m)):\n",
    "        n.append(m.count(m[i]))\n",
    "    return(n)\n",
    "WordsRepeat([\"abcd\",\"abcd\",\"pqrs\",\"abcd\",\"ijkl\"])"
   ]
  },
  {
   "cell_type": "code",
   "execution_count": null,
   "metadata": {},
   "outputs": [],
   "source": []
  },
  {
   "cell_type": "markdown",
   "metadata": {},
   "source": [
    "## Problem 4:\n",
    "## Statement:\n",
    "Define a function to validate email addresses based on the following rules.\n",
    "\n",
    "Email should be in the format username@domain.extension\n",
    "username must start with an alphabet and can contain lowercase alphabet, digits, hyphen(-) and underscores( _ ).\n",
    "username must not contain special characters, uppercase letters, whitespaces.\n",
    "Length of username must be in the range (6, 16)\n",
    "Domain can only contain lowercase alphabet and digits with length in range (3, 10) . No special characters are allowed\n",
    "Extension can only contain lower case alphabet and its length must be in the range (2, 4)\n",
    "First line of input contains total number of email addresses n.  Next n lines contain  n email addresses.\n",
    "\n",
    "Output must contain contain  n  lines with either 'Valid' or 'Invalid'\n",
    "### Test Cases:\n",
    "Sample Input :  6\n",
    "\n",
    "abc456@gmail.com\n",
    "\n",
    "456abc@yahoo.com\n",
    "\n",
    "abc_456@gitam.ed1\n",
    "\n",
    "abc-456@abc-d.in\n",
    "\n",
    "python@python.edu\n",
    "\n",
    "abc 456@edu.edu\n",
    "\n",
    "Sample Output :   Valid\n",
    "\n",
    "Invalid\n",
    "\n",
    "Invalid\n",
    "\n",
    "Invalid\n",
    "\n",
    "Valid\n",
    "\n",
    "Invalid"
   ]
  },
  {
   "cell_type": "code",
   "execution_count": 62,
   "metadata": {},
   "outputs": [
    {
     "name": "stdout",
     "output_type": "stream",
     "text": [
      "abc456 Invalid\n",
      "\n",
      "456abc Invalid\n",
      "\n",
      "abc_456 Invalid\n",
      "\n",
      "abc-456 Invalid\n",
      "\n",
      "python Invalid\n",
      "\n",
      "abc 456 Invalid\n",
      "\n"
     ]
    }
   ],
   "source": [
    "def correctMail(m):\n",
    "    sc={1 : '!',2:'@',3:'#',4:'$',5:'%',6:'^',7:'&',8:'*',9:'/',10:'=',11:'+'}\n",
    "    n={1:'1',2:'2',3:'3',4:'4',5:'5',6:'6',7:'7',8:'8',9:'9',10:'0',11:' '}\n",
    "    s=m.split('@')\n",
    "    if (s[0]==s[0].isupper()  or s[0]==sc or len(s[0])<6 or len(s[0])>16 or s[0][0]==s[0][0].lower()  ):\n",
    "        print(s[0],\"Invalid\")\n",
    "    for i in range (len(sc)):\n",
    "        if s[0]==s[0].find('sc[i]') or s[0]==s[0].find('n[i]') :\n",
    "            print(s[0],\"Invalid\")\n",
    "        else:\n",
    "            return ''\n",
    "    else:\n",
    "        return 'Valid'\n",
    "print(correctMail(\"abc456@gmail.com\"))\n",
    "print(correctMail(\"456abc@yahoo.com\"))\n",
    "print(correctMail(\"abc_456@gitam.ed1\"))\n",
    "print(correctMail(\"abc-456@abc-d.in\"))\n",
    "print(correctMail(\"python@python.edu\"))\n",
    "print(correctMail(\"abc 456@edu.edu\"))"
   ]
  },
  {
   "cell_type": "code",
   "execution_count": null,
   "metadata": {},
   "outputs": [],
   "source": []
  }
 ],
 "metadata": {
  "kernelspec": {
   "display_name": "Python 3",
   "language": "python",
   "name": "python3"
  },
  "language_info": {
   "codemirror_mode": {
    "name": "ipython",
    "version": 3
   },
   "file_extension": ".py",
   "mimetype": "text/x-python",
   "name": "python",
   "nbconvert_exporter": "python",
   "pygments_lexer": "ipython3",
   "version": "3.7.3"
  }
 },
 "nbformat": 4,
 "nbformat_minor": 2
}
