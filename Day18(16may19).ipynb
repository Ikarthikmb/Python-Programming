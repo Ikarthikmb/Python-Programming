{
 "cells": [
  {
   "cell_type": "code",
   "execution_count": null,
   "metadata": {},
   "outputs": [],
   "source": []
  },
  {
   "cell_type": "markdown",
   "metadata": {},
   "source": [
    "## Problem 1:\n",
    "\n",
    "### Statement\n",
    "Define a function to read data from text file\\\n"
   ]
  },
  {
   "cell_type": "code",
   "execution_count": 16,
   "metadata": {},
   "outputs": [
    {
     "data": {
      "text/plain": [
       "'Hello!\\nMr\\n'"
      ]
     },
     "execution_count": 16,
     "metadata": {},
     "output_type": "execute_result"
    }
   ],
   "source": [
    "def ReadFileData(filename):\n",
    "    f=open(filename,'r')\n",
    "    filedata=f.readline()\n",
    "    filedata+=f.readline()\n",
    "    \n",
    "    f.close()\n",
    "    return filedata\n",
    "\n",
    "ReadFileData('DataFiles/data.txt')"
   ]
  },
  {
   "cell_type": "code",
   "execution_count": 17,
   "metadata": {},
   "outputs": [
    {
     "data": {
      "text/plain": [
       "'Hello!\\nMr\\nThis\\nis\\nPython'"
      ]
     },
     "execution_count": 17,
     "metadata": {},
     "output_type": "execute_result"
    }
   ],
   "source": [
    "def readfiledata(filename):\n",
    "    f = open(filename, 'r')\n",
    "    filedata = f.read()\n",
    "    \n",
    "    f.close()\n",
    "    return filedata\n",
    "\n",
    "readfiledata('DataFiles/data.txt')"
   ]
  },
  {
   "cell_type": "code",
   "execution_count": 18,
   "metadata": {},
   "outputs": [
    {
     "data": {
      "text/plain": [
       "'Hello!\\n'"
      ]
     },
     "execution_count": 18,
     "metadata": {},
     "output_type": "execute_result"
    }
   ],
   "source": [
    "def readfiledata(filename):\n",
    "    with open(filename, 'r') as f:\n",
    "        filedata = f.readline()\n",
    "    \n",
    "\n",
    "    return filedata\n",
    "\n",
    "readfiledata('DataFiles/data.txt')"
   ]
  },
  {
   "cell_type": "code",
   "execution_count": 337,
   "metadata": {},
   "outputs": [
    {
     "name": "stdout",
     "output_type": "stream",
     "text": [
      "Hello!\n",
      "\n",
      "Mr\n",
      "\n",
      "This\n",
      "\n",
      "is\n",
      "\n",
      "Python\n"
     ]
    }
   ],
   "source": [
    "def readfiledata(filename):\n",
    "    with open(filename, 'r') as f:\n",
    "        for line in f:\n",
    "            print(line)\n",
    "\n",
    "readfiledata('DataFiles/data.txt')"
   ]
  },
  {
   "cell_type": "code",
   "execution_count": 338,
   "metadata": {},
   "outputs": [
    {
     "name": "stdout",
     "output_type": "stream",
     "text": [
      "Hello!\n",
      "Mr\n",
      "This\n",
      "is\n",
      "Python"
     ]
    }
   ],
   "source": [
    "def readfiledata(filename):\n",
    "    with open(filename, 'r') as f:\n",
    "        for line in f:\n",
    "            print(line, end = '')\n",
    "\n",
    "readfiledata('DataFiles/data.txt')"
   ]
  },
  {
   "cell_type": "code",
   "execution_count": 340,
   "metadata": {},
   "outputs": [
    {
     "name": "stdout",
     "output_type": "stream",
     "text": [
      "Hello!\n",
      "Mr\n",
      "This\n",
      "is\n",
      "Python\n"
     ]
    }
   ],
   "source": [
    "def readfiledata(filename):\n",
    "    with open(filename, 'r') as f:\n",
    "        print(f.read())\n",
    "\n",
    "readfiledata('DataFiles/data.txt')"
   ]
  },
  {
   "cell_type": "code",
   "execution_count": null,
   "metadata": {},
   "outputs": [],
   "source": []
  },
  {
   "cell_type": "markdown",
   "metadata": {},
   "source": [
    "## Problem 2:\n",
    "Define a function to generate a Marks data file (text file) for 1300 students such that each mark is entered in anew line. Marks range from 0 to 100 (inclusive) random numbers."
   ]
  },
  {
   "cell_type": "code",
   "execution_count": 347,
   "metadata": {},
   "outputs": [
    {
     "data": {
      "text/plain": [
       "0.009846191001997795"
      ]
     },
     "execution_count": 347,
     "metadata": {},
     "output_type": "execute_result"
    }
   ],
   "source": [
    "import random,timeit\n",
    "def GenerateMarksData(n,filename):\n",
    "    start=timeit.default_timer()\n",
    "    with open(filename,'w') as marksFile:\n",
    "        for i in range(n):\n",
    "            marks=random.randint(1,100)\n",
    "            marksFile.write(str(marks)+'\\n')\n",
    "    return timeit.default_timer()-start\n",
    "\n",
    "GenerateMarksData(1300,'MarksData.txt')"
   ]
  },
  {
   "cell_type": "code",
   "execution_count": null,
   "metadata": {},
   "outputs": [],
   "source": []
  },
  {
   "cell_type": "markdown",
   "metadata": {},
   "source": [
    "## Problem 3:\n",
    "Generate a report on marks data with the following indicators:\n",
    "* Highest mark :\n",
    "* Lowest Mark :\n",
    "* Average Mark :\n",
    "* No of students with distinction(>90) :\n",
    "* No of students with First class (>80):\n",
    "* No of students with second class (>70):\n",
    "* No of students with second class (>60):\n",
    "* No of students failed (<40) :\n",
    "### Test Cases\n"
   ]
  },
  {
   "cell_type": "code",
   "execution_count": 349,
   "metadata": {},
   "outputs": [
    {
     "name": "stdout",
     "output_type": "stream",
     "text": [
      "Max Marks= 57 Min Marks= 57 Avg Marks= 0\n",
      "Grade A-- 0 Grade B-- 0 Grade C-- 0 Grade F-- 0 "
     ]
    },
    {
     "data": {
      "text/plain": [
       "0.004933976000756957"
      ]
     },
     "execution_count": 349,
     "metadata": {},
     "output_type": "execute_result"
    }
   ],
   "source": [
    "import timeit\n",
    "def ReadMarks(n,filename):\n",
    "    start=timeit.default_timer()\n",
    "    with open (filename,'r') as rip:\n",
    "        l=[]\n",
    "        ga=[]\n",
    "        gc=[]\n",
    "        gb=[]\n",
    "        fl=[]\n",
    "        for i in rip:\n",
    "            l.append(int(i))\n",
    "            print('Max Marks=',max(l),'Min Marks=',min(l),'Avg Marks=',(sum(l)//n),end='\\n')\n",
    "            if int(i)>=90:\n",
    "                ga.append(int(i))\n",
    "            elif int(i)>=80 and int(i)<90:\n",
    "                gb.append(int(i))\n",
    "            elif int(i)>=70 and int(i)<80:\n",
    "                gc.append(int(i))\n",
    "            elif int(i)<=40:\n",
    "                fl.append(int(i))\n",
    "            print('Grade A--',len(ga),'Grade B--',len(gb),'Grade C--',len(gc),'Grade F--',len(fl), end = ' ')\n",
    "            return timeit.default_timer()-start\n",
    "\n",
    "ReadMarks(1300,'MarksData.txt')\n"
   ]
  },
  {
   "cell_type": "code",
   "execution_count": null,
   "metadata": {},
   "outputs": [],
   "source": []
  },
  {
   "cell_type": "code",
   "execution_count": 350,
   "metadata": {},
   "outputs": [
    {
     "name": "stdout",
     "output_type": "stream",
     "text": [
      "['4', '36.543', '2', '8', '8']\n",
      "[4.0, 36.543, 2.0, 8.0, 8.0]\n",
      "[4.0, 36.543, 2.0, 8.0, 8.0]\n",
      "0.00058624000303098\n",
      "<class 'list'>\n"
     ]
    }
   ],
   "source": [
    "import timeit\n",
    "st=timeit.default_timer()\n",
    "li=[4,36.543,2,8,8]\n",
    "print(list(map(str,li)))\n",
    "print([float(i) for i in li])\n",
    "print(s)\n",
    "print((timeit.default_timer()-st))\n",
    "print(type(s))"
   ]
  },
  {
   "cell_type": "code",
   "execution_count": null,
   "metadata": {},
   "outputs": [],
   "source": []
  }
 ],
 "metadata": {
  "kernelspec": {
   "display_name": "Python 3",
   "language": "python",
   "name": "python3"
  },
  "language_info": {
   "codemirror_mode": {
    "name": "ipython",
    "version": 3
   },
   "file_extension": ".py",
   "mimetype": "text/x-python",
   "name": "python",
   "nbconvert_exporter": "python",
   "pygments_lexer": "ipython3",
   "version": "3.7.3"
  }
 },
 "nbformat": 4,
 "nbformat_minor": 2
}
